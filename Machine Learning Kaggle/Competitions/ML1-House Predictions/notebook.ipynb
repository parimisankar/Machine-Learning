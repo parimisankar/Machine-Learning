{
  "cells": [
    {
      "metadata": {
        "_cell_guid": "e81ee64d-e474-4662-9036-ce23df615199",
        "_uuid": "b6269c0e8f417f82daf093dda8fa0da6d2c57d86"
      },
      "cell_type": "markdown",
      "source": "# Introduction\n**This will be your workspace for Kaggle's Machine Learning education track.**\n\nYou will build and continually improve a model to predict housing prices as you work through each tutorial.  Fork this notebook and write your code in it.\n\nThe data from the tutorial, the Melbourne data, is not available in this workspace.  You will need to translate the concepts to work with the data in this notebook, the Iowa data.\n\nCome to the [Learn Discussion](https://www.kaggle.com/learn-forum) forum for any questions or comments. \n\n# Write Your Code Below\n\n"
    },
    {
      "metadata": {
        "_cell_guid": "86b26423-563a-4fa1-a595-89e25ff93089",
        "_uuid": "1c728098629e1301643443b1341556a15c089b2b",
        "trusted": true,
        "collapsed": true
      },
      "cell_type": "code",
      "source": "# import pandas library\nimport pandas as pd",
      "execution_count": null,
      "outputs": []
    },
    {
      "metadata": {
        "trusted": true,
        "collapsed": true,
        "_uuid": "204fb262f59d819ad06034c571afbcbda0b4a3ed"
      },
      "cell_type": "code",
      "source": "# Read input file\n# save filepath to variable for easier access\nmain_file_path = '../input/train.csv'\n# read the data and store data in DataFrame titled data\ndata = pd.read_csv(main_file_path)",
      "execution_count": null,
      "outputs": []
    },
    {
      "metadata": {
        "trusted": true,
        "collapsed": true,
        "_uuid": "4d2e37d631c9c64c43129580cce776579b0d3cb4"
      },
      "cell_type": "code",
      "source": "# Load data as predictor(X matrix) and target(y vector)\n# Hypothesis/Prediction/Target Variable\ny = data.SalePrice\n# Select parameters/predictors and load to a table/matrix X \n# print(data.columns)\npredictors = ['LotArea', 'YearBuilt', '1stFlrSF', '2ndFlrSF', 'FullBath', 'BedroomAbvGr', 'TotRmsAbvGrd']\nX = data[predictors]\n# X.describe()\n# X.head()",
      "execution_count": null,
      "outputs": []
    },
    {
      "metadata": {
        "trusted": true,
        "collapsed": true,
        "_uuid": "b529fd1f65090968d7cec3e1cc000534867ef47b"
      },
      "cell_type": "code",
      "source": "# Split the data into training and validation/test data sets\nfrom sklearn.model_selection import train_test_split\n# split data into training and validation data, for both predictors and target\ntrain_X, val_X, train_y, val_y = train_test_split(X, y,random_state = 0)",
      "execution_count": null,
      "outputs": []
    },
    {
      "metadata": {
        "trusted": true,
        "collapsed": true,
        "_uuid": "8d192debdda3e6805515c64d889c7c1707c2c91e"
      },
      "cell_type": "code",
      "source": "# Implement Decision Tree model\n# Define model\nfrom sklearn.tree import DecisionTreeRegressor\n#prediction_model = DecisionTreeRegressor()\n\n# Fit model with training data set\n#prediction_model.fit(train_X, train_y)\n\n# Predict model with validation/test data set\n#predicted_home_prices = prediction_model.predict(val_X)\n\n# Evaluate model with validation/test data set\nfrom sklearn.metrics import mean_absolute_error\n#print(mean_absolute_error(val_y, predicted_home_prices))",
      "execution_count": null,
      "outputs": []
    },
    {
      "metadata": {
        "trusted": true,
        "collapsed": true,
        "_uuid": "83811d56ccd6aff1d92c15b9660bfb1610710d99"
      },
      "cell_type": "code",
      "source": "# Function to recursively implement decision tree model\ndef get_mae(max_leaf_nodes, predictors_train, predictors_val, targ_train, targ_val):\n    model = DecisionTreeRegressor(max_leaf_nodes=max_leaf_nodes, random_state=0)\n    model.fit(predictors_train, targ_train)\n    preds_val = model.predict(predictors_val)\n    mae = mean_absolute_error(targ_val, preds_val)\n    return(mae)",
      "execution_count": null,
      "outputs": []
    },
    {
      "metadata": {
        "trusted": true,
        "collapsed": true,
        "_uuid": "17142d5226e72505d4d84bd033c277371ff5017c"
      },
      "cell_type": "code",
      "source": "# compare MAE with differing values of max_leaf_nodes\nprint(\"Decision Tree Model:\")\nfor max_leaf_nodes in [50, 80, 85, 90, 500]:\n    my_mae = get_mae(max_leaf_nodes, train_X, val_X, train_y, val_y)\n    print(\"Max leaf nodes: %d  \\t\\t Mean Absolute Error:  %d\" %(max_leaf_nodes, my_mae))",
      "execution_count": null,
      "outputs": []
    },
    {
      "metadata": {
        "trusted": true,
        "collapsed": true,
        "_uuid": "412547e20c98c6ea9cc2a585db1ee73481f21ef7"
      },
      "cell_type": "code",
      "source": "# Random Forest Model\nfrom sklearn.ensemble import RandomForestRegressor\nforest_model = RandomForestRegressor()\nforest_model.fit(train_X, train_y)\nval_preds = forest_model.predict(val_X)\nrandom_mae = mean_absolute_error(val_y, val_preds)\nprint(\"\\nRandom Forest Model:  \\t\\t Mean Absolute Error:  %d\" %random_mae)",
      "execution_count": null,
      "outputs": []
    }
  ],
  "metadata": {
    "kernelspec": {
      "display_name": "Python 3",
      "language": "python",
      "name": "python3"
    },
    "language_info": {
      "name": "python",
      "version": "3.6.4",
      "mimetype": "text/x-python",
      "codemirror_mode": {
        "name": "ipython",
        "version": 3
      },
      "pygments_lexer": "ipython3",
      "nbconvert_exporter": "python",
      "file_extension": ".py"
    }
  },
  "nbformat": 4,
  "nbformat_minor": 1
}